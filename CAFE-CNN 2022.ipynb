{
 "cells": [
  {
   "cell_type": "markdown",
   "id": "040f7b2a",
   "metadata": {},
   "source": [
    "# CAFE Set Revisited\n",
    "\n",
    "In 2016, I did a proof-of-concept paper for the purpose of introducing simple machine learning concepts to researchers studying developmental cognition. The point of the paper was to demonstrate how relatively low-lift statistical models could provide an enormous jump in the sensitivity of traditional psychometrics. The target of that article was differences in emotional facial expressions, specifically in young children. Researchers in the field of developmental psychology could use a facial classification system to dramatically reduce labor time required to manually labels faces in related studies. This task was selected of a proof of concept for colegues to look towards novel computational solutions when conducting laboratory research.\n",
    "\n",
    "In that article, we trained an SVM classifier to discriminate between faces using the [Child Affective Facial Expressions (CAFE) set](https://www.childstudycenter-rutgers.com/the-child-affective-facial-expression-se). The model achieved overall accuracy of 62%. This may seem underwhelming to the ML community, but nearly matched the accuracy of human raters in discriminating between these very same stimuli (63%). The entire article can be viewed [here](https://cogsci.mindmodeling.org/2017/papers/0308/paper0308.pdf).\n",
    "\n",
    "I've worked as an ML researcher in the six years since the article was released, and after attending a seminar on transfer learning in convolutional neural networks (CNNs)for drone operation, I was curious whether a more robust model could achieve better performance using the same data. As a first experiment, I trained a CNN on the CAFE set using standard normalizing coefficients and relatively shallow layers. In a second experiment, I took the [VGG16 CNN architecture](https://neurohive.io/en/popular-networks/vgg16/) and retrain the classifier for the purpose of discriminating emotional expressions. "
   ]
  },
  {
   "cell_type": "markdown",
   "id": "7a4841e2",
   "metadata": {},
   "source": [
    "## General Imports"
   ]
  },
  {
   "cell_type": "code",
   "execution_count": 43,
   "id": "ee092e53",
   "metadata": {},
   "outputs": [],
   "source": [
    "import os\n",
    "import glob\n",
    "import numpy as np\n",
    "import pandas as pd\n",
    "import matplotlib.pyplot as plt\n",
    "%matplotlib inline\n",
    "\n",
    "\n",
    "import torch\n",
    "import torch.nn as nn\n",
    "import torch.nn.functional as F\n",
    "from torch.utils.data import DataLoader, Dataset\n",
    "from torchvision import datasets, transforms, models # add models to the list\n",
    "from torchvision.utils import make_grid\n",
    "from sklearn.model_selection import train_test_split\n",
    "\n",
    "from PIL import Image\n",
    "\n",
    "\n",
    "# ignore harmless warnings\n",
    "import warnings\n",
    "warnings.filterwarnings(\"ignore\")"
   ]
  },
  {
   "cell_type": "markdown",
   "id": "e34a0560",
   "metadata": {},
   "source": [
    "# Transforms"
   ]
  },
  {
   "cell_type": "code",
   "execution_count": 73,
   "id": "a01932cb",
   "metadata": {},
   "outputs": [],
   "source": [
    "train_transform = transforms.Compose([\n",
    "        transforms.RandomRotation(15),      # rotate +/- 10 degrees\n",
    "        transforms.RandomHorizontalFlip(),  # reverse 50% of images\n",
    "        transforms.Resize(224),             # resize shortest side to 224 pixels\n",
    "        transforms.CenterCrop(224),         # crop longest side to 224 pixels at center\n",
    "        transforms.ToTensor(),\n",
    "        transforms.Normalize([0.485], # generic standardization scheme (means & stds)\n",
    "                             [0.225])\n",
    "    ])\n",
    "\n",
    "test_transform = transforms.Compose([\n",
    "        transforms.Resize(224),\n",
    "        transforms.CenterCrop(224),\n",
    "        transforms.ToTensor(),\n",
    "        transforms.Normalize([0.485],\n",
    "                             [0.225])\n",
    "    ])"
   ]
  },
  {
   "cell_type": "markdown",
   "id": "09cc379d",
   "metadata": {},
   "source": [
    "# Experiment 1. Training a CNN From Scratch"
   ]
  },
  {
   "cell_type": "markdown",
   "id": "2987886d",
   "metadata": {},
   "source": [
    "## Datasets\n",
    "\n",
    "The datasets are organized by participant rather than by emotional category. We have to perform some filename magic to sort files into test-train splits. \n",
    "\n",
    "The CAFE set aggregates nearly 1200 photos of children whose parents have voluntarally concented for use in public research. Access to the CAFE set requires approval from the dataset administrators, and will not be provided with this demonstration. "
   ]
  },
  {
   "cell_type": "code",
   "execution_count": 12,
   "id": "4090f76a",
   "metadata": {},
   "outputs": [
    {
     "data": {
      "text/plain": [
       "['../training_sets/CAFE_Scaled_LooseCrit/6280/10857-neutralopen_F-AA-01.jpg',\n",
       " '../training_sets/CAFE_Scaled_LooseCrit/6280/10098-angryopen_F-AA-01.jpg',\n",
       " '../training_sets/CAFE_Scaled_LooseCrit/6280/10182-disgust_F-AA-01.jpg',\n",
       " '../training_sets/CAFE_Scaled_LooseCrit/6280/9977-angry_F-AA-01.jpg',\n",
       " '../training_sets/CAFE_Scaled_LooseCrit/6280/11020-sadopen_F-AA-01.jpg',\n",
       " '../training_sets/CAFE_Scaled_LooseCrit/6280/10373-fearful_F-AA-01.jpg',\n",
       " '../training_sets/CAFE_Scaled_LooseCrit/6280/10728-neutral_F-AA-01.jpg',\n",
       " '../training_sets/CAFE_Scaled_LooseCrit/6280/10278-disgustwithtongue_F-AA-01.jpg',\n",
       " '../training_sets/CAFE_Scaled_LooseCrit/6280/10633-happyopen_F-AA-01.jpg',\n",
       " '../training_sets/CAFE_Scaled_LooseCrit/6280/11066-surprise_F-AA-01.jpg',\n",
       " '../training_sets/CAFE_Scaled_LooseCrit/6280/10513-happy_F-AA-01.jpg',\n",
       " '../training_sets/CAFE_Scaled_LooseCrit/6280/10452-fearfulopen_F-AA-01.jpg',\n",
       " '../training_sets/CAFE_Scaled_LooseCrit/6280/10958-sad_F-AA-01.jpg']"
      ]
     },
     "execution_count": 12,
     "metadata": {},
     "output_type": "execute_result"
    }
   ],
   "source": [
    "# identify all files in the training dataset\n",
    "source_files = glob.glob('../training_sets/CAFE_Scaled_LooseCrit/*/*')\n",
    "# identify each source participant\n",
    "cafeparticipants = np.unique([img.split('_')[-1].split('.jpg')[0] for img in source_files])\n",
    "\n",
    "# double check that we're grabbing within a single participant\n",
    "currentP = cafeparticipants[0]\n",
    "glob.glob('../training_sets/CAFE_Scaled_LooseCrit/*/*' + \"%s.jpg\" %currentP)"
   ]
  },
  {
   "cell_type": "code",
   "execution_count": 47,
   "id": "e6aee2f4",
   "metadata": {},
   "outputs": [],
   "source": [
    "all_data = datasets.ImageFolder('../training_sets/CAFE_Scaled_LooseCrit/')"
   ]
  },
  {
   "cell_type": "code",
   "execution_count": 130,
   "id": "72afcf6f",
   "metadata": {},
   "outputs": [
    {
     "name": "stdout",
     "output_type": "stream",
     "text": [
      "1187 1187 1187\n"
     ]
    }
   ],
   "source": [
    "# get all files, participants and labels\n",
    "source_files = glob.glob('../training_sets/CAFE_Scaled_LooseCrit/*/*')\n",
    "cafeparticipants = [img.split('_')[-1].split('.jpg')[0] for img in source_files]\n",
    "labels = [e for s in source_files for e in emotions if e in s]\n",
    "\n",
    "# identify class names and convert to numeric labels\n",
    "class_names = np.unique(labels)\n",
    "class_names.sort()\n",
    "class_dict = dict(zip(class_names, range(len(class_names))))\n",
    "label_to_class = {v: k for k, v in class_dict.items()}\n",
    "labels = [class_dict[l] for l in labels]\n",
    "\n",
    "# split source files into test and train splits\n",
    "# in the original article, we split participants into test and train splits\n",
    "# but here I'd prefer to have proportional sampling by labels\n",
    "# it's an empirical question how much this decision alone might impart classifier generalization\n",
    "print(len(source_files), len(cafeparticipants), len(labels))\n",
    "train_files, test_files, train_labels, test_labels = train_test_split(source_files, labels , test_size=.2, shuffle=True, stratify=labels)"
   ]
  },
  {
   "cell_type": "markdown",
   "id": "b03ef987",
   "metadata": {},
   "source": [
    "### Resampling\n",
    "\n",
    "Given the small dataset we're operating within, all training data will be resampled five times, under conditions of random rotation and horizontal flipping. The test data is only transformed to be a compatable image size."
   ]
  },
  {
   "cell_type": "code",
   "execution_count": 246,
   "id": "856ceaec",
   "metadata": {},
   "outputs": [],
   "source": [
    "resample_rate = 5 #let's resample several times with rotations and translations\n",
    "train_data = []\n",
    "for r in range(resample_rate):\n",
    "    for f, l in zip(train_files, train_labels):\n",
    "        im = Image.open(f)\n",
    "        train_data.append((train_transform(im), l))\n",
    "\n",
    "test_data = []\n",
    "for f, l in zip(test_files, test_labels):\n",
    "    im = Image.open(f)\n",
    "    test_data.append((test_transform(im), l))        \n",
    "    \n",
    "train_n = len(train_data)\n",
    "test_n = len(test_data)"
   ]
  },
  {
   "cell_type": "code",
   "execution_count": 247,
   "id": "8bc53b78",
   "metadata": {},
   "outputs": [
    {
     "data": {
      "text/plain": [
       "(4745, 238)"
      ]
     },
     "execution_count": 247,
     "metadata": {},
     "output_type": "execute_result"
    }
   ],
   "source": [
    "train_n, test_n"
   ]
  },
  {
   "cell_type": "code",
   "execution_count": 248,
   "id": "d635d733",
   "metadata": {},
   "outputs": [],
   "source": [
    "train_loader = DataLoader(train_data, batch_size=10, shuffle=True)\n",
    "test_loader = DataLoader(test_data, batch_size=10)"
   ]
  },
  {
   "cell_type": "code",
   "execution_count": 252,
   "id": "367ef2e2",
   "metadata": {
    "scrolled": false
   },
   "outputs": [
    {
     "name": "stderr",
     "output_type": "stream",
     "text": [
      "Clipping input data to the valid range for imshow with RGB data ([0..1] for floats or [0..255] for integers).\n"
     ]
    },
    {
     "name": "stdout",
     "output_type": "stream",
     "text": [
      "Label: tensor([4, 3, 4, 4, 1])\n",
      "Class: ['neutral', 'happy', 'neutral', 'neutral', 'disgust']\n",
      "Label: tensor([3, 0, 2, 1, 4])\n",
      "Class: ['happy', 'angry', 'fearful', 'disgust', 'neutral']\n"
     ]
    },
    {
     "data": {
      "image/png": "[encoded data removed]",
      "text/plain": [
       "<Figure size 864x288 with 1 Axes>"
      ]
     },
     "metadata": {
      "needs_background": "light"
     },
     "output_type": "display_data"
    }
   ],
   "source": [
    "# visualizing a batch to confirm rotation and flipping\n",
    "\n",
    "#toggle comment to check test vs train data\n",
    "# for images, label in test_loader:\n",
    "for images, label in train_loader:\n",
    "    break\n",
    "    \n",
    "im = make_grid(images, nrow=5)  # the default nrow is 8\n",
    "\n",
    "inv_normalize = transforms.Normalize(\n",
    "    mean=[-0.485/0.225],\n",
    "    std=[1/0.225]\n",
    ")\n",
    "\n",
    "im_inv = inv_normalize(im)\n",
    "\n",
    "# Print the images\n",
    "plt.figure(figsize=(12,4))\n",
    "plt.imshow(np.transpose(im_inv.numpy(), (1, 2, 0)));\n",
    "print('Label:', label[0:5])\n",
    "print('Class:', [label_to_class[l] for l in label.numpy()[0:5]])\n",
    "print('Label:', label[5:])\n",
    "print('Class:', [label_to_class[l] for l in label.numpy()[5:]])\n"
   ]
  },
  {
   "cell_type": "markdown",
   "id": "d946298b",
   "metadata": {},
   "source": [
    "## Define the Model\n",
    "\n",
    "Here, I'm using a simple structure with two convluational layers punctuated by max pooling layers, which feed into three fully connected layers. For loss function, I'm sticking with the unfussing cross entropy loss, and an Adam optimizer with a learning rate of 0.1%."
   ]
  },
  {
   "cell_type": "code",
   "execution_count": 254,
   "id": "9e86607f",
   "metadata": {},
   "outputs": [],
   "source": [
    "class CNN(nn.Module):\n",
    "    \"\"\"\n",
    "    Convolutional Neural Network class. Layers and parameters are set\n",
    "    explicitly for 224x224 pixel images. \n",
    "    \"\"\"\n",
    "    \n",
    "    def __init__(self, n_classes=7):\n",
    "        super().__init__()\n",
    "        self.conv1 = nn.Conv2d(1, 6, 3, 1)\n",
    "        self.conv2 = nn.Conv2d(6, 16, 3, 1)\n",
    "        self.fc1 = nn.Linear(54*54*16, 120)\n",
    "        self.fc2 = nn.Linear(120, 84)\n",
    "        self.fc3 = nn.Linear(84, n_classes)\n",
    "\n",
    "    def forward(self, X):\n",
    "        X = F.relu(self.conv1(X))\n",
    "        X = F.max_pool2d(X, 2, 2)\n",
    "        X = F.relu(self.conv2(X))\n",
    "        X = F.max_pool2d(X, 2, 2)\n",
    "        X = X.view(-1, 54*54*16)\n",
    "        X = F.relu(self.fc1(X))\n",
    "        X = F.relu(self.fc2(X))\n",
    "        X = self.fc3(X)\n",
    "        return F.log_softmax(X, dim=1)"
   ]
  },
  {
   "cell_type": "code",
   "execution_count": 255,
   "id": "d014b362",
   "metadata": {},
   "outputs": [
    {
     "data": {
      "text/plain": [
       "CNN(\n",
       "  (conv1): Conv2d(1, 6, kernel_size=(3, 3), stride=(1, 1))\n",
       "  (conv2): Conv2d(6, 16, kernel_size=(3, 3), stride=(1, 1))\n",
       "  (fc1): Linear(in_features=46656, out_features=120, bias=True)\n",
       "  (fc2): Linear(in_features=120, out_features=84, bias=True)\n",
       "  (fc3): Linear(in_features=84, out_features=7, bias=True)\n",
       ")"
      ]
     },
     "execution_count": 255,
     "metadata": {},
     "output_type": "execute_result"
    }
   ],
   "source": [
    "torch.manual_seed(8675309)\n",
    "CNNmodel = CNN()\n",
    "criterion = nn.CrossEntropyLoss()\n",
    "optimizer = torch.optim.Adam(CNNmodel.parameters(), lr=0.001)\n",
    "CNNmodel"
   ]
  },
  {
   "cell_type": "markdown",
   "id": "305dc313",
   "metadata": {},
   "source": [
    "## Train the Model\n",
    "\n",
    "Despire the moderately large number of parameters, this model can be trained on CPU alone due to the small dataset. Increasing the dataset will require using GPU servers."
   ]
  },
  {
   "cell_type": "code",
   "execution_count": 256,
   "id": "1d101990",
   "metadata": {
    "scrolled": true
   },
   "outputs": [
    {
     "name": "stdout",
     "output_type": "stream",
     "text": [
      "epoch:  0  batch:   10 [   100/4745]  loss: 1.78965664  accuracy:  19.000%\n",
      "epoch:  0  batch:   20 [   200/4745]  loss: 1.94721949  accuracy:  15.000%\n",
      "epoch:  0  batch:   30 [   300/4745]  loss: 1.81427228  accuracy:  17.333%\n",
      "epoch:  0  batch:   40 [   400/4745]  loss: 2.09648776  accuracy:  18.250%\n",
      "epoch:  0  batch:   50 [   500/4745]  loss: 1.87225688  accuracy:  21.200%\n",
      "epoch:  0  batch:   60 [   600/4745]  loss: 2.12610960  accuracy:  21.167%\n",
      "epoch:  0  batch:   70 [   700/4745]  loss: 1.96414626  accuracy:  22.571%\n",
      "epoch:  0  batch:   80 [   800/4745]  loss: 1.89124453  accuracy:  23.625%\n",
      "epoch:  0  batch:   90 [   900/4745]  loss: 1.76595652  accuracy:  24.000%\n",
      "epoch:  0  batch:  100 [  1000/4745]  loss: 1.62097514  accuracy:  25.300%\n",
      "epoch:  0  batch:  110 [  1100/4745]  loss: 1.78689671  accuracy:  25.273%\n",
      "epoch:  0  batch:  120 [  1200/4745]  loss: 1.62979925  accuracy:  26.083%\n",
      "epoch:  0  batch:  130 [  1300/4745]  loss: 1.48179364  accuracy:  26.769%\n",
      "epoch:  0  batch:  140 [  1400/4745]  loss: 1.50034690  accuracy:  27.071%\n",
      "epoch:  0  batch:  150 [  1500/4745]  loss: 1.49190772  accuracy:  27.800%\n",
      "epoch:  0  batch:  160 [  1600/4745]  loss: 1.62928331  accuracy:  29.188%\n",
      "epoch:  0  batch:  170 [  1700/4745]  loss: 2.00680757  accuracy:  29.471%\n",
      "epoch:  0  batch:  180 [  1800/4745]  loss: 1.51926386  accuracy:  30.167%\n",
      "epoch:  0  batch:  190 [  1900/4745]  loss: 1.31993079  accuracy:  30.632%\n",
      "epoch:  0  batch:  200 [  2000/4745]  loss: 1.36402738  accuracy:  31.850%\n",
      "epoch:  0  batch:  210 [  2100/4745]  loss: 1.22635424  accuracy:  32.762%\n",
      "epoch:  0  batch:  220 [  2200/4745]  loss: 1.18290663  accuracy:  33.545%\n",
      "epoch:  0  batch:  230 [  2300/4745]  loss: 1.27102077  accuracy:  34.174%\n",
      "epoch:  0  batch:  240 [  2400/4745]  loss: 1.21083784  accuracy:  35.042%\n",
      "epoch:  0  batch:  250 [  2500/4745]  loss: 2.36691785  accuracy:  35.960%\n",
      "epoch:  0  batch:  260 [  2600/4745]  loss: 1.41498089  accuracy:  36.385%\n",
      "epoch:  0  batch:  270 [  2700/4745]  loss: 1.15543246  accuracy:  37.222%\n",
      "epoch:  0  batch:  280 [  2800/4745]  loss: 1.21178675  accuracy:  37.536%\n",
      "epoch:  0  batch:  290 [  2900/4745]  loss: 1.14321446  accuracy:  37.931%\n",
      "epoch:  0  batch:  300 [  3000/4745]  loss: 0.92099017  accuracy:  38.200%\n",
      "epoch:  0  batch:  310 [  3100/4745]  loss: 0.91187888  accuracy:  38.806%\n",
      "epoch:  0  batch:  320 [  3200/4745]  loss: 0.84969407  accuracy:  39.406%\n",
      "epoch:  0  batch:  330 [  3300/4745]  loss: 0.89273977  accuracy:  39.727%\n",
      "epoch:  0  batch:  340 [  3400/4745]  loss: 1.20761991  accuracy:  39.706%\n",
      "epoch:  0  batch:  350 [  3500/4745]  loss: 1.70807481  accuracy:  40.229%\n",
      "epoch:  0  batch:  360 [  3600/4745]  loss: 1.44178689  accuracy:  40.750%\n",
      "epoch:  0  batch:  370 [  3700/4745]  loss: 1.24968338  accuracy:  40.892%\n",
      "epoch:  0  batch:  380 [  3800/4745]  loss: 0.95926410  accuracy:  41.368%\n",
      "epoch:  0  batch:  390 [  3900/4745]  loss: 0.99470490  accuracy:  41.897%\n",
      "epoch:  0  batch:  400 [  4000/4745]  loss: 0.93256217  accuracy:  42.275%\n",
      "epoch:  0  batch:  410 [  4100/4745]  loss: 1.27286136  accuracy:  42.707%\n",
      "epoch:  0  batch:  420 [  4200/4745]  loss: 1.73525202  accuracy:  43.143%\n",
      "epoch:  0  batch:  430 [  4300/4745]  loss: 1.28016353  accuracy:  43.791%\n",
      "epoch:  0  batch:  440 [  4400/4745]  loss: 0.85857809  accuracy:  44.114%\n",
      "epoch:  0  batch:  450 [  4500/4745]  loss: 0.81374073  accuracy:  44.511%\n",
      "epoch:  0  batch:  460 [  4600/4745]  loss: 1.36367488  accuracy:  44.783%\n",
      "epoch:  0  batch:  470 [  4700/4745]  loss: 0.78106672  accuracy:  45.106%\n",
      "epoch:  1  batch:   10 [   100/4745]  loss: 1.18427396  accuracy:  71.000%\n",
      "epoch:  1  batch:   20 [   200/4745]  loss: 0.36721596  accuracy:  74.000%\n",
      "epoch:  1  batch:   30 [   300/4745]  loss: 1.06343532  accuracy:  72.000%\n",
      "epoch:  1  batch:   40 [   400/4745]  loss: 0.65594864  accuracy:  70.250%\n",
      "epoch:  1  batch:   50 [   500/4745]  loss: 0.76130360  accuracy:  67.800%\n",
      "epoch:  1  batch:   60 [   600/4745]  loss: 1.62909532  accuracy:  67.667%\n",
      "epoch:  1  batch:   70 [   700/4745]  loss: 0.88914073  accuracy:  68.000%\n",
      "epoch:  1  batch:   80 [   800/4745]  loss: 1.23930717  accuracy:  67.625%\n",
      "epoch:  1  batch:   90 [   900/4745]  loss: 0.80824929  accuracy:  67.778%\n",
      "epoch:  1  batch:  100 [  1000/4745]  loss: 1.11505985  accuracy:  67.700%\n",
      "epoch:  1  batch:  110 [  1100/4745]  loss: 1.53518522  accuracy:  67.455%\n",
      "epoch:  1  batch:  120 [  1200/4745]  loss: 0.86005676  accuracy:  67.750%\n",
      "epoch:  1  batch:  130 [  1300/4745]  loss: 0.77402675  accuracy:  68.000%\n",
      "epoch:  1  batch:  140 [  1400/4745]  loss: 0.73355150  accuracy:  68.071%\n",
      "epoch:  1  batch:  150 [  1500/4745]  loss: 0.53940558  accuracy:  68.667%\n",
      "epoch:  1  batch:  160 [  1600/4745]  loss: 0.51577997  accuracy:  68.750%\n",
      "epoch:  1  batch:  170 [  1700/4745]  loss: 0.59992880  accuracy:  69.000%\n",
      "epoch:  1  batch:  180 [  1800/4745]  loss: 0.86583298  accuracy:  69.000%\n",
      "epoch:  1  batch:  190 [  1900/4745]  loss: 1.06216621  accuracy:  68.842%\n",
      "epoch:  1  batch:  200 [  2000/4745]  loss: 0.39537731  accuracy:  68.900%\n",
      "epoch:  1  batch:  210 [  2100/4745]  loss: 0.70056981  accuracy:  69.095%\n",
      "epoch:  1  batch:  220 [  2200/4745]  loss: 0.38063440  accuracy:  69.091%\n",
      "epoch:  1  batch:  230 [  2300/4745]  loss: 0.74504715  accuracy:  69.087%\n",
      "epoch:  1  batch:  240 [  2400/4745]  loss: 0.95925474  accuracy:  69.083%\n",
      "epoch:  1  batch:  250 [  2500/4745]  loss: 0.69808692  accuracy:  68.880%\n",
      "epoch:  1  batch:  260 [  2600/4745]  loss: 0.62195379  accuracy:  69.038%\n",
      "epoch:  1  batch:  270 [  2700/4745]  loss: 1.21985173  accuracy:  69.074%\n",
      "epoch:  1  batch:  280 [  2800/4745]  loss: 0.74749893  accuracy:  69.143%\n",
      "epoch:  1  batch:  290 [  2900/4745]  loss: 0.68858206  accuracy:  69.345%\n",
      "epoch:  1  batch:  300 [  3000/4745]  loss: 0.49848747  accuracy:  69.433%\n",
      "epoch:  1  batch:  310 [  3100/4745]  loss: 0.80090320  accuracy:  69.355%\n",
      "epoch:  1  batch:  320 [  3200/4745]  loss: 0.60383457  accuracy:  69.375%\n",
      "epoch:  1  batch:  330 [  3300/4745]  loss: 0.58598912  accuracy:  69.364%\n",
      "epoch:  1  batch:  340 [  3400/4745]  loss: 0.44330731  accuracy:  69.588%\n",
      "epoch:  1  batch:  350 [  3500/4745]  loss: 1.23824465  accuracy:  69.657%\n",
      "epoch:  1  batch:  360 [  3600/4745]  loss: 0.58064795  accuracy:  69.806%\n",
      "epoch:  1  batch:  370 [  3700/4745]  loss: 0.49233681  accuracy:  70.027%\n",
      "epoch:  1  batch:  380 [  3800/4745]  loss: 0.85319662  accuracy:  70.053%\n",
      "epoch:  1  batch:  390 [  3900/4745]  loss: 0.87633485  accuracy:  70.051%\n",
      "epoch:  1  batch:  400 [  4000/4745]  loss: 1.15953100  accuracy:  70.200%\n",
      "epoch:  1  batch:  410 [  4100/4745]  loss: 0.67472696  accuracy:  70.195%\n",
      "epoch:  1  batch:  420 [  4200/4745]  loss: 0.47206673  accuracy:  70.310%\n",
      "epoch:  1  batch:  430 [  4300/4745]  loss: 0.69643492  accuracy:  70.395%\n",
      "epoch:  1  batch:  440 [  4400/4745]  loss: 1.14575839  accuracy:  70.568%\n",
      "epoch:  1  batch:  450 [  4500/4745]  loss: 0.39690393  accuracy:  70.733%\n",
      "epoch:  1  batch:  460 [  4600/4745]  loss: 0.59903413  accuracy:  70.935%\n",
      "epoch:  1  batch:  470 [  4700/4745]  loss: 0.40813938  accuracy:  70.894%\n",
      "epoch:  2  batch:   10 [   100/4745]  loss: 0.62106073  accuracy:  87.000%\n",
      "epoch:  2  batch:   20 [   200/4745]  loss: 0.54335988  accuracy:  87.000%\n",
      "epoch:  2  batch:   30 [   300/4745]  loss: 0.52390921  accuracy:  85.667%\n",
      "epoch:  2  batch:   40 [   400/4745]  loss: 0.48541999  accuracy:  84.500%\n",
      "epoch:  2  batch:   50 [   500/4745]  loss: 0.47285542  accuracy:  84.400%\n",
      "epoch:  2  batch:   60 [   600/4745]  loss: 0.06304178  accuracy:  85.333%\n",
      "epoch:  2  batch:   70 [   700/4745]  loss: 0.35427588  accuracy:  85.857%\n",
      "epoch:  2  batch:   80 [   800/4745]  loss: 0.39974210  accuracy:  85.875%\n",
      "epoch:  2  batch:   90 [   900/4745]  loss: 0.56627214  accuracy:  85.778%\n",
      "epoch:  2  batch:  100 [  1000/4745]  loss: 0.20500398  accuracy:  85.700%\n",
      "epoch:  2  batch:  110 [  1100/4745]  loss: 0.56687802  accuracy:  85.727%\n",
      "epoch:  2  batch:  120 [  1200/4745]  loss: 0.36867604  accuracy:  85.917%\n",
      "epoch:  2  batch:  130 [  1300/4745]  loss: 0.31550989  accuracy:  86.077%\n",
      "epoch:  2  batch:  140 [  1400/4745]  loss: 0.46943027  accuracy:  86.214%\n",
      "epoch:  2  batch:  150 [  1500/4745]  loss: 0.39100999  accuracy:  86.200%\n",
      "epoch:  2  batch:  160 [  1600/4745]  loss: 0.57317442  accuracy:  85.812%\n"
     ]
    },
    {
     "name": "stdout",
     "output_type": "stream",
     "text": [
      "epoch:  2  batch:  170 [  1700/4745]  loss: 0.42582798  accuracy:  85.647%\n",
      "epoch:  2  batch:  180 [  1800/4745]  loss: 0.23545206  accuracy:  85.889%\n",
      "epoch:  2  batch:  190 [  1900/4745]  loss: 0.15668356  accuracy:  85.842%\n",
      "epoch:  2  batch:  200 [  2000/4745]  loss: 0.13779557  accuracy:  86.000%\n",
      "epoch:  2  batch:  210 [  2100/4745]  loss: 0.54549134  accuracy:  86.190%\n",
      "epoch:  2  batch:  220 [  2200/4745]  loss: 0.32624230  accuracy:  86.227%\n",
      "epoch:  2  batch:  230 [  2300/4745]  loss: 0.38975951  accuracy:  85.913%\n",
      "epoch:  2  batch:  240 [  2400/4745]  loss: 0.11247325  accuracy:  86.208%\n",
      "epoch:  2  batch:  250 [  2500/4745]  loss: 0.32201710  accuracy:  86.360%\n",
      "epoch:  2  batch:  260 [  2600/4745]  loss: 0.70876062  accuracy:  86.269%\n",
      "epoch:  2  batch:  270 [  2700/4745]  loss: 1.07630646  accuracy:  86.333%\n",
      "epoch:  2  batch:  280 [  2800/4745]  loss: 0.11486492  accuracy:  86.536%\n",
      "epoch:  2  batch:  290 [  2900/4745]  loss: 0.03919443  accuracy:  86.621%\n",
      "epoch:  2  batch:  300 [  3000/4745]  loss: 0.07028745  accuracy:  86.733%\n",
      "epoch:  2  batch:  310 [  3100/4745]  loss: 0.11023404  accuracy:  86.839%\n",
      "epoch:  2  batch:  320 [  3200/4745]  loss: 0.29458115  accuracy:  86.688%\n",
      "epoch:  2  batch:  330 [  3300/4745]  loss: 0.09588741  accuracy:  86.758%\n",
      "epoch:  2  batch:  340 [  3400/4745]  loss: 0.45612234  accuracy:  86.647%\n",
      "epoch:  2  batch:  350 [  3500/4745]  loss: 0.29297629  accuracy:  86.600%\n",
      "epoch:  2  batch:  360 [  3600/4745]  loss: 0.32573336  accuracy:  86.639%\n",
      "epoch:  2  batch:  370 [  3700/4745]  loss: 0.39439896  accuracy:  86.568%\n",
      "epoch:  2  batch:  380 [  3800/4745]  loss: 0.14931938  accuracy:  86.526%\n",
      "epoch:  2  batch:  390 [  3900/4745]  loss: 0.19111447  accuracy:  86.538%\n",
      "epoch:  2  batch:  400 [  4000/4745]  loss: 0.31458917  accuracy:  86.600%\n",
      "epoch:  2  batch:  410 [  4100/4745]  loss: 0.10803425  accuracy:  86.707%\n",
      "epoch:  2  batch:  420 [  4200/4745]  loss: 0.13371877  accuracy:  86.690%\n",
      "epoch:  2  batch:  430 [  4300/4745]  loss: 0.32649297  accuracy:  86.744%\n",
      "epoch:  2  batch:  440 [  4400/4745]  loss: 0.28833434  accuracy:  86.682%\n",
      "epoch:  2  batch:  450 [  4500/4745]  loss: 0.07513512  accuracy:  86.733%\n",
      "epoch:  2  batch:  460 [  4600/4745]  loss: 0.05899069  accuracy:  86.870%\n",
      "epoch:  2  batch:  470 [  4700/4745]  loss: 0.22397518  accuracy:  86.745%\n",
      "epoch:  3  batch:   10 [   100/4745]  loss: 0.03862444  accuracy:  96.000%\n",
      "epoch:  3  batch:   20 [   200/4745]  loss: 0.30832511  accuracy:  95.500%\n",
      "epoch:  3  batch:   30 [   300/4745]  loss: 0.18930350  accuracy:  96.667%\n",
      "epoch:  3  batch:   40 [   400/4745]  loss: 0.15092261  accuracy:  97.000%\n",
      "epoch:  3  batch:   50 [   500/4745]  loss: 0.23999408  accuracy:  96.600%\n",
      "epoch:  3  batch:   60 [   600/4745]  loss: 0.20384809  accuracy:  96.333%\n",
      "epoch:  3  batch:   70 [   700/4745]  loss: 0.33712178  accuracy:  96.429%\n",
      "epoch:  3  batch:   80 [   800/4745]  loss: 0.04936138  accuracy:  96.125%\n",
      "epoch:  3  batch:   90 [   900/4745]  loss: 0.22743723  accuracy:  96.333%\n",
      "epoch:  3  batch:  100 [  1000/4745]  loss: 0.36819157  accuracy:  96.400%\n",
      "epoch:  3  batch:  110 [  1100/4745]  loss: 0.08063754  accuracy:  96.364%\n",
      "epoch:  3  batch:  120 [  1200/4745]  loss: 0.41071343  accuracy:  96.167%\n",
      "epoch:  3  batch:  130 [  1300/4745]  loss: 0.00979506  accuracy:  95.846%\n",
      "epoch:  3  batch:  140 [  1400/4745]  loss: 0.35914308  accuracy:  95.643%\n",
      "epoch:  3  batch:  150 [  1500/4745]  loss: 0.12425534  accuracy:  95.400%\n",
      "epoch:  3  batch:  160 [  1600/4745]  loss: 0.03447767  accuracy:  95.188%\n",
      "epoch:  3  batch:  170 [  1700/4745]  loss: 0.23855054  accuracy:  95.059%\n",
      "epoch:  3  batch:  180 [  1800/4745]  loss: 0.21505940  accuracy:  94.833%\n",
      "epoch:  3  batch:  190 [  1900/4745]  loss: 0.02478941  accuracy:  94.895%\n",
      "epoch:  3  batch:  200 [  2000/4745]  loss: 0.20136710  accuracy:  94.950%\n",
      "epoch:  3  batch:  210 [  2100/4745]  loss: 0.09427273  accuracy:  94.905%\n",
      "epoch:  3  batch:  220 [  2200/4745]  loss: 0.15363266  accuracy:  94.864%\n",
      "epoch:  3  batch:  230 [  2300/4745]  loss: 0.05610381  accuracy:  94.870%\n",
      "epoch:  3  batch:  240 [  2400/4745]  loss: 0.10399151  accuracy:  94.875%\n",
      "epoch:  3  batch:  250 [  2500/4745]  loss: 0.11579907  accuracy:  94.880%\n",
      "epoch:  3  batch:  260 [  2600/4745]  loss: 0.01758998  accuracy:  94.923%\n",
      "epoch:  3  batch:  270 [  2700/4745]  loss: 0.60324895  accuracy:  94.852%\n",
      "epoch:  3  batch:  280 [  2800/4745]  loss: 0.03857714  accuracy:  94.893%\n",
      "epoch:  3  batch:  290 [  2900/4745]  loss: 0.11563065  accuracy:  94.931%\n",
      "epoch:  3  batch:  300 [  3000/4745]  loss: 0.05006069  accuracy:  95.000%\n",
      "epoch:  3  batch:  310 [  3100/4745]  loss: 0.10825051  accuracy:  95.000%\n",
      "epoch:  3  batch:  320 [  3200/4745]  loss: 0.20437774  accuracy:  94.812%\n",
      "epoch:  3  batch:  330 [  3300/4745]  loss: 0.31303722  accuracy:  94.697%\n",
      "epoch:  3  batch:  340 [  3400/4745]  loss: 0.09145093  accuracy:  94.618%\n",
      "epoch:  3  batch:  350 [  3500/4745]  loss: 0.03597504  accuracy:  94.629%\n",
      "epoch:  3  batch:  360 [  3600/4745]  loss: 0.06830137  accuracy:  94.639%\n",
      "epoch:  3  batch:  370 [  3700/4745]  loss: 0.10737781  accuracy:  94.757%\n",
      "epoch:  3  batch:  380 [  3800/4745]  loss: 0.20500970  accuracy:  94.868%\n",
      "epoch:  3  batch:  390 [  3900/4745]  loss: 0.01194118  accuracy:  94.897%\n",
      "epoch:  3  batch:  400 [  4000/4745]  loss: 0.62572682  accuracy:  94.875%\n",
      "epoch:  3  batch:  410 [  4100/4745]  loss: 0.10534023  accuracy:  94.878%\n",
      "epoch:  3  batch:  420 [  4200/4745]  loss: 0.05596406  accuracy:  94.881%\n",
      "epoch:  3  batch:  430 [  4300/4745]  loss: 0.10012548  accuracy:  94.791%\n",
      "epoch:  3  batch:  440 [  4400/4745]  loss: 0.00265623  accuracy:  94.841%\n",
      "epoch:  3  batch:  450 [  4500/4745]  loss: 0.26592344  accuracy:  94.756%\n",
      "epoch:  3  batch:  460 [  4600/4745]  loss: 0.14185122  accuracy:  94.739%\n",
      "epoch:  3  batch:  470 [  4700/4745]  loss: 0.23044960  accuracy:  94.702%\n",
      "epoch:  4  batch:   10 [   100/4745]  loss: 0.07084820  accuracy:  99.000%\n",
      "epoch:  4  batch:   20 [   200/4745]  loss: 0.00631422  accuracy:  98.500%\n",
      "epoch:  4  batch:   30 [   300/4745]  loss: 0.25649145  accuracy:  98.667%\n",
      "epoch:  4  batch:   40 [   400/4745]  loss: 0.04312787  accuracy:  98.500%\n",
      "epoch:  4  batch:   50 [   500/4745]  loss: 0.04702453  accuracy:  98.800%\n",
      "epoch:  4  batch:   60 [   600/4745]  loss: 0.00767156  accuracy:  98.833%\n",
      "epoch:  4  batch:   70 [   700/4745]  loss: 0.00803516  accuracy:  98.857%\n",
      "epoch:  4  batch:   80 [   800/4745]  loss: 0.00527071  accuracy:  99.000%\n",
      "epoch:  4  batch:   90 [   900/4745]  loss: 0.00738242  accuracy:  98.889%\n",
      "epoch:  4  batch:  100 [  1000/4745]  loss: 0.01669571  accuracy:  98.900%\n",
      "epoch:  4  batch:  110 [  1100/4745]  loss: 0.02221440  accuracy:  99.000%\n",
      "epoch:  4  batch:  120 [  1200/4745]  loss: 0.02012634  accuracy:  98.750%\n",
      "epoch:  4  batch:  130 [  1300/4745]  loss: 0.02604386  accuracy:  98.769%\n",
      "epoch:  4  batch:  140 [  1400/4745]  loss: 0.09130680  accuracy:  98.857%\n",
      "epoch:  4  batch:  150 [  1500/4745]  loss: 0.01120643  accuracy:  98.733%\n",
      "epoch:  4  batch:  160 [  1600/4745]  loss: 0.17204536  accuracy:  98.688%\n",
      "epoch:  4  batch:  170 [  1700/4745]  loss: 0.04419038  accuracy:  98.647%\n",
      "epoch:  4  batch:  180 [  1800/4745]  loss: 0.01005891  accuracy:  98.667%\n",
      "epoch:  4  batch:  190 [  1900/4745]  loss: 0.03488085  accuracy:  98.526%\n",
      "epoch:  4  batch:  200 [  2000/4745]  loss: 0.01123559  accuracy:  98.450%\n",
      "epoch:  4  batch:  210 [  2100/4745]  loss: 0.01192522  accuracy:  98.429%\n",
      "epoch:  4  batch:  220 [  2200/4745]  loss: 0.00565253  accuracy:  98.409%\n",
      "epoch:  4  batch:  230 [  2300/4745]  loss: 0.02141466  accuracy:  98.391%\n",
      "epoch:  4  batch:  240 [  2400/4745]  loss: 0.01634058  accuracy:  98.417%\n",
      "epoch:  4  batch:  250 [  2500/4745]  loss: 0.00422311  accuracy:  98.480%\n",
      "epoch:  4  batch:  260 [  2600/4745]  loss: 0.01980970  accuracy:  98.462%\n",
      "epoch:  4  batch:  270 [  2700/4745]  loss: 0.02951786  accuracy:  98.370%\n",
      "epoch:  4  batch:  280 [  2800/4745]  loss: 0.27342507  accuracy:  98.214%\n",
      "epoch:  4  batch:  290 [  2900/4745]  loss: 0.13678773  accuracy:  98.103%\n",
      "epoch:  4  batch:  300 [  3000/4745]  loss: 0.00506005  accuracy:  98.100%\n",
      "epoch:  4  batch:  310 [  3100/4745]  loss: 0.39984229  accuracy:  98.065%\n",
      "epoch:  4  batch:  320 [  3200/4745]  loss: 0.04765665  accuracy:  98.000%\n"
     ]
    },
    {
     "name": "stdout",
     "output_type": "stream",
     "text": [
      "epoch:  4  batch:  330 [  3300/4745]  loss: 0.03617905  accuracy:  97.970%\n",
      "epoch:  4  batch:  340 [  3400/4745]  loss: 0.60435617  accuracy:  97.912%\n",
      "epoch:  4  batch:  350 [  3500/4745]  loss: 0.00394685  accuracy:  97.857%\n",
      "epoch:  4  batch:  360 [  3600/4745]  loss: 0.06629209  accuracy:  97.833%\n",
      "epoch:  4  batch:  370 [  3700/4745]  loss: 0.22093251  accuracy:  97.838%\n",
      "epoch:  4  batch:  380 [  3800/4745]  loss: 0.27343774  accuracy:  97.737%\n",
      "epoch:  4  batch:  390 [  3900/4745]  loss: 0.18563199  accuracy:  97.692%\n",
      "epoch:  4  batch:  400 [  4000/4745]  loss: 0.01665034  accuracy:  97.700%\n",
      "epoch:  4  batch:  410 [  4100/4745]  loss: 0.10824133  accuracy:  97.659%\n",
      "epoch:  4  batch:  420 [  4200/4745]  loss: 0.02402237  accuracy:  97.690%\n",
      "epoch:  4  batch:  430 [  4300/4745]  loss: 0.25346643  accuracy:  97.674%\n",
      "epoch:  4  batch:  440 [  4400/4745]  loss: 0.16827872  accuracy:  97.636%\n",
      "epoch:  4  batch:  450 [  4500/4745]  loss: 0.34984472  accuracy:  97.578%\n",
      "epoch:  4  batch:  460 [  4600/4745]  loss: 0.51929444  accuracy:  97.500%\n",
      "epoch:  4  batch:  470 [  4700/4745]  loss: 0.16829911  accuracy:  97.447%\n",
      "\n",
      "Duration: 466 seconds\n"
     ]
    }
   ],
   "source": [
    "import time\n",
    "start_time = time.time()\n",
    "\n",
    "epochs = 5\n",
    "\n",
    "train_losses = []\n",
    "test_losses = []\n",
    "train_correct = []\n",
    "test_correct = []\n",
    "\n",
    "train_n = len(train_loader.dataset)\n",
    "test_n = len(test_loader.dataset)\n",
    "\n",
    "for i in range(epochs):\n",
    "    trn_corr = 0\n",
    "    tst_corr = 0\n",
    "    \n",
    "    # Run the training batches\n",
    "    for b, (X_train, y_train) in enumerate(train_loader):\n",
    "        \n",
    "        b+=1\n",
    "        \n",
    "        # Apply the model\n",
    "        y_pred = CNNmodel(X_train)\n",
    "        loss = criterion(y_pred, y_train)\n",
    " \n",
    "        # Tally the number of correct predictions\n",
    "        predicted = torch.max(y_pred.data, 1)[1]\n",
    "        batch_corr = (predicted == y_train).sum()\n",
    "        trn_corr += batch_corr\n",
    "        \n",
    "        # Update parameters\n",
    "        optimizer.zero_grad()\n",
    "        loss.backward()\n",
    "        optimizer.step()\n",
    "\n",
    "        # Print interim results\n",
    "        if b%10 == 0:\n",
    "            print(f'epoch: {i:2}  batch: {b:4} [{10*b:6}/{train_n}]  loss: {loss.item():10.8f}  \\\n",
    "accuracy: {trn_corr.item()*100/(10*b):7.3f}%')\n",
    "\n",
    "    train_losses.append(loss)\n",
    "    train_correct.append(trn_corr)\n",
    "\n",
    "    # Run the testing batches\n",
    "    with torch.no_grad():\n",
    "        for b, (X_test, y_test) in enumerate(test_loader):\n",
    "\n",
    "            # Apply the model\n",
    "            y_val = CNNmodel(X_test)\n",
    "\n",
    "            # Tally the number of correct predictions\n",
    "            predicted = torch.max(y_val.data, 1)[1] \n",
    "            tst_corr += (predicted == y_test).sum()\n",
    "\n",
    "    loss = criterion(y_val, y_test)\n",
    "    test_losses.append(loss)\n",
    "    test_correct.append(tst_corr)\n",
    "\n",
    "print(f'\\nDuration: {time.time() - start_time:.0f} seconds') # print the time elapsed"
   ]
  },
  {
   "cell_type": "code",
   "execution_count": 257,
   "id": "eed16cf8",
   "metadata": {},
   "outputs": [],
   "source": [
    "torch.save(CNNmodel.state_dict(), 'CAFE_CNNModel-5_rep_b.pt')"
   ]
  },
  {
   "cell_type": "markdown",
   "id": "1649bd07",
   "metadata": {},
   "source": [
    "## Experiment 1: Results\n",
    "\n",
    "We see a strong within-set training rate. This is expected, given the resampling among the training data. Looking at the validation set shows much more modest gains, with increasing validation loss per epoch as is typical of resampling techniques. However, the overall accuracy rate is still higher than expected from chance **and** human raters, a full 5% better performance than the initial demonstration in 2016. "
   ]
  },
  {
   "cell_type": "code",
   "execution_count": 258,
   "id": "fcc3523b",
   "metadata": {},
   "outputs": [
    {
     "data": {
      "image/png": "[encoded data removed]",
      "text/plain": [
       "<Figure size 432x288 with 1 Axes>"
      ]
     },
     "metadata": {
      "needs_background": "light"
     },
     "output_type": "display_data"
    }
   ],
   "source": [
    "plt.plot(train_losses, label='training loss')\n",
    "plt.plot(test_losses, label='validation loss')\n",
    "plt.title('Loss at the end of each epoch')\n",
    "plt.legend();"
   ]
  },
  {
   "cell_type": "code",
   "execution_count": 259,
   "id": "48302071",
   "metadata": {},
   "outputs": [
    {
     "data": {
      "image/png": "[encoded data removed]",
      "text/plain": [
       "<Figure size 432x288 with 1 Axes>"
      ]
     },
     "metadata": {
      "needs_background": "light"
     },
     "output_type": "display_data"
    }
   ],
   "source": [
    "plt.plot([t.numpy()/train_n for t in train_correct], label='training accuracy')\n",
    "plt.plot([t.numpy()/test_n for t in test_correct], label='validation accuracy')\n",
    "plt.title('Accuracy at the end of each epoch')\n",
    "plt.legend();"
   ]
  },
  {
   "cell_type": "code",
   "execution_count": 261,
   "id": "897c9400",
   "metadata": {},
   "outputs": [
    {
     "name": "stdout",
     "output_type": "stream",
     "text": [
      "Final validation accuracy: 65.966%\n",
      "\t chance at 14.286%)\n",
      "\t human performance at 63%)\n"
     ]
    }
   ],
   "source": [
    "print(f'Final validation accuracy: {(test_correct[-1].numpy() / test_n)*100:3.3f}%')\n",
    "print(f'\\t chance at {1/len(class_names)*100:3.3f}%)')\n",
    "print('\\t human performance at 63%)')"
   ]
  },
  {
   "cell_type": "markdown",
   "id": "a29e99fb",
   "metadata": {},
   "source": [
    "# Experiment 2: Using pre-trained models for emotional categorization\n",
    "\n",
    "The [VGG16 model](https://neurohive.io/en/popular-networks/vgg16/) is a state of the art CNN that has found success in a wide number of image classification tasks. It was trained using a hardware cluster of epic proportions. By retraining the model's classifier, we can repurpose that hard-earned training for the slightly different task of distinguishin between faces (as opposed to the original operation, which would be to identify whether the image was a face vs some other image class)."
   ]
  },
  {
   "cell_type": "code",
   "execution_count": 217,
   "id": "9b2241ef",
   "metadata": {},
   "outputs": [
    {
     "name": "stderr",
     "output_type": "stream",
     "text": [
      "Downloading: \"https://download.pytorch.org/models/vgg16-397923af.pth\" to /Users/lewisbaker/.cache/torch/checkpoints/vgg16-397923af.pth\n",
      "100.0%\n"
     ]
    },
    {
     "data": {
      "text/plain": [
       "VGG(\n",
       "  (features): Sequential(\n",
       "    (0): Conv2d(3, 64, kernel_size=(3, 3), stride=(1, 1), padding=(1, 1))\n",
       "    (1): ReLU(inplace=True)\n",
       "    (2): Conv2d(64, 64, kernel_size=(3, 3), stride=(1, 1), padding=(1, 1))\n",
       "    (3): ReLU(inplace=True)\n",
       "    (4): MaxPool2d(kernel_size=2, stride=2, padding=0, dilation=1, ceil_mode=False)\n",
       "    (5): Conv2d(64, 128, kernel_size=(3, 3), stride=(1, 1), padding=(1, 1))\n",
       "    (6): ReLU(inplace=True)\n",
       "    (7): Conv2d(128, 128, kernel_size=(3, 3), stride=(1, 1), padding=(1, 1))\n",
       "    (8): ReLU(inplace=True)\n",
       "    (9): MaxPool2d(kernel_size=2, stride=2, padding=0, dilation=1, ceil_mode=False)\n",
       "    (10): Conv2d(128, 256, kernel_size=(3, 3), stride=(1, 1), padding=(1, 1))\n",
       "    (11): ReLU(inplace=True)\n",
       "    (12): Conv2d(256, 256, kernel_size=(3, 3), stride=(1, 1), padding=(1, 1))\n",
       "    (13): ReLU(inplace=True)\n",
       "    (14): Conv2d(256, 256, kernel_size=(3, 3), stride=(1, 1), padding=(1, 1))\n",
       "    (15): ReLU(inplace=True)\n",
       "    (16): MaxPool2d(kernel_size=2, stride=2, padding=0, dilation=1, ceil_mode=False)\n",
       "    (17): Conv2d(256, 512, kernel_size=(3, 3), stride=(1, 1), padding=(1, 1))\n",
       "    (18): ReLU(inplace=True)\n",
       "    (19): Conv2d(512, 512, kernel_size=(3, 3), stride=(1, 1), padding=(1, 1))\n",
       "    (20): ReLU(inplace=True)\n",
       "    (21): Conv2d(512, 512, kernel_size=(3, 3), stride=(1, 1), padding=(1, 1))\n",
       "    (22): ReLU(inplace=True)\n",
       "    (23): MaxPool2d(kernel_size=2, stride=2, padding=0, dilation=1, ceil_mode=False)\n",
       "    (24): Conv2d(512, 512, kernel_size=(3, 3), stride=(1, 1), padding=(1, 1))\n",
       "    (25): ReLU(inplace=True)\n",
       "    (26): Conv2d(512, 512, kernel_size=(3, 3), stride=(1, 1), padding=(1, 1))\n",
       "    (27): ReLU(inplace=True)\n",
       "    (28): Conv2d(512, 512, kernel_size=(3, 3), stride=(1, 1), padding=(1, 1))\n",
       "    (29): ReLU(inplace=True)\n",
       "    (30): MaxPool2d(kernel_size=2, stride=2, padding=0, dilation=1, ceil_mode=False)\n",
       "  )\n",
       "  (avgpool): AdaptiveAvgPool2d(output_size=(7, 7))\n",
       "  (classifier): Sequential(\n",
       "    (0): Linear(in_features=25088, out_features=4096, bias=True)\n",
       "    (1): ReLU(inplace=True)\n",
       "    (2): Dropout(p=0.5, inplace=False)\n",
       "    (3): Linear(in_features=4096, out_features=4096, bias=True)\n",
       "    (4): ReLU(inplace=True)\n",
       "    (5): Dropout(p=0.5, inplace=False)\n",
       "    (6): Linear(in_features=4096, out_features=1000, bias=True)\n",
       "  )\n",
       ")"
      ]
     },
     "execution_count": 217,
     "metadata": {},
     "output_type": "execute_result"
    }
   ],
   "source": [
    "from torchvision import models\n",
    "VGGmodel = models.vgg16(pretrained=True)\n",
    "VGGmodel"
   ]
  },
  {
   "cell_type": "code",
   "execution_count": 220,
   "id": "79519bee",
   "metadata": {},
   "outputs": [
    {
     "data": {
      "text/plain": [
       "VGG(\n",
       "  (features): Sequential(\n",
       "    (0): Conv2d(3, 64, kernel_size=(3, 3), stride=(1, 1), padding=(1, 1))\n",
       "    (1): ReLU(inplace=True)\n",
       "    (2): Conv2d(64, 64, kernel_size=(3, 3), stride=(1, 1), padding=(1, 1))\n",
       "    (3): ReLU(inplace=True)\n",
       "    (4): MaxPool2d(kernel_size=2, stride=2, padding=0, dilation=1, ceil_mode=False)\n",
       "    (5): Conv2d(64, 128, kernel_size=(3, 3), stride=(1, 1), padding=(1, 1))\n",
       "    (6): ReLU(inplace=True)\n",
       "    (7): Conv2d(128, 128, kernel_size=(3, 3), stride=(1, 1), padding=(1, 1))\n",
       "    (8): ReLU(inplace=True)\n",
       "    (9): MaxPool2d(kernel_size=2, stride=2, padding=0, dilation=1, ceil_mode=False)\n",
       "    (10): Conv2d(128, 256, kernel_size=(3, 3), stride=(1, 1), padding=(1, 1))\n",
       "    (11): ReLU(inplace=True)\n",
       "    (12): Conv2d(256, 256, kernel_size=(3, 3), stride=(1, 1), padding=(1, 1))\n",
       "    (13): ReLU(inplace=True)\n",
       "    (14): Conv2d(256, 256, kernel_size=(3, 3), stride=(1, 1), padding=(1, 1))\n",
       "    (15): ReLU(inplace=True)\n",
       "    (16): MaxPool2d(kernel_size=2, stride=2, padding=0, dilation=1, ceil_mode=False)\n",
       "    (17): Conv2d(256, 512, kernel_size=(3, 3), stride=(1, 1), padding=(1, 1))\n",
       "    (18): ReLU(inplace=True)\n",
       "    (19): Conv2d(512, 512, kernel_size=(3, 3), stride=(1, 1), padding=(1, 1))\n",
       "    (20): ReLU(inplace=True)\n",
       "    (21): Conv2d(512, 512, kernel_size=(3, 3), stride=(1, 1), padding=(1, 1))\n",
       "    (22): ReLU(inplace=True)\n",
       "    (23): MaxPool2d(kernel_size=2, stride=2, padding=0, dilation=1, ceil_mode=False)\n",
       "    (24): Conv2d(512, 512, kernel_size=(3, 3), stride=(1, 1), padding=(1, 1))\n",
       "    (25): ReLU(inplace=True)\n",
       "    (26): Conv2d(512, 512, kernel_size=(3, 3), stride=(1, 1), padding=(1, 1))\n",
       "    (27): ReLU(inplace=True)\n",
       "    (28): Conv2d(512, 512, kernel_size=(3, 3), stride=(1, 1), padding=(1, 1))\n",
       "    (29): ReLU(inplace=True)\n",
       "    (30): MaxPool2d(kernel_size=2, stride=2, padding=0, dilation=1, ceil_mode=False)\n",
       "  )\n",
       "  (avgpool): AdaptiveAvgPool2d(output_size=(7, 7))\n",
       "  (classifier): Sequential(\n",
       "    (0): Linear(in_features=25088, out_features=9216, bias=True)\n",
       "    (1): ReLU()\n",
       "    (2): Dropout(p=0.4, inplace=False)\n",
       "    (3): Linear(in_features=9216, out_features=1024, bias=True)\n",
       "    (4): ReLU()\n",
       "    (5): Dropout(p=0.4, inplace=False)\n",
       "    (6): Linear(in_features=1024, out_features=7, bias=True)\n",
       "    (7): LogSoftmax()\n",
       "  )\n",
       ")"
      ]
     },
     "execution_count": 220,
     "metadata": {},
     "output_type": "execute_result"
    }
   ],
   "source": [
    "# freeze existing parameters\n",
    "for param in VGGmodel.parameters():\n",
    "    param.requires_grad = False\n",
    "\n",
    "# set a new classifier\n",
    "torch.manual_seed(222)\n",
    "VGGmodel.classifier = nn.Sequential(nn.Linear(25088, 9216),\n",
    "                                    nn.ReLU(),\n",
    "                                    nn.Dropout(0.4),\n",
    "                                    nn.Linear(9216, 1024),\n",
    "                                    nn.ReLU(),\n",
    "                                    nn.Dropout(0.4),\n",
    "                                    nn.Linear(1024, len(class_names)),\n",
    "                                    nn.LogSoftmax(dim=1))\n",
    "VGGmodel"
   ]
  },
  {
   "cell_type": "code",
   "execution_count": 221,
   "id": "0a65df0b",
   "metadata": {},
   "outputs": [
    {
     "name": "stdout",
     "output_type": "stream",
     "text": [
      "231211008\n",
      "    9216\n",
      " 9437184\n",
      "    1024\n",
      "    7168\n",
      "       7\n",
      "________\n",
      "240665607\n"
     ]
    }
   ],
   "source": [
    "# These are the TRAINABLE parameters:\n",
    "# Man, I'm going to be here all day\n",
    "# Update: yes, I was\n",
    "count_parameters(VGGmodel)"
   ]
  },
  {
   "cell_type": "markdown",
   "id": "d1b63f91",
   "metadata": {},
   "source": [
    "### A brief note on grayscale images\n",
    "\n",
    "The files used for the homebrew CNN were already greyscaled. The VGG network anticipates three channels (RGB). There are a few ways to deal with this. First, we could change this input channels of the VGG network; however, this is strongly not advised, as all trained parameters would demonstrate incredible downstream bias. Second, we could grab the original color photographs and re-preprocess. Admittedly, this would be the more rigorous solution, but I promised myself I'd do this in an afternoon for a brownbag at the end of the week, and I've got to cut corners somehow. The third option is to propogate each image's grayscale channel to three redundant channels for input. This surprisingly does not violate the pretrained networks as much as I had initially assumed, and is a reasonable cheat. Obviously this is done for demonstration purposes alone, and any production use of the model should go with the highest quality solution possible."
   ]
  },
  {
   "cell_type": "code",
   "execution_count": 269,
   "id": "d674f425",
   "metadata": {},
   "outputs": [
    {
     "name": "stdout",
     "output_type": "stream",
     "text": [
      "torch.Size([5, 1, 224, 224])\n",
      "torch.Size([5, 3, 224, 224])\n",
      "torch.Size([1, 224, 224]) torch.Size([3, 224, 224])\n"
     ]
    }
   ],
   "source": [
    "# numpy.repeat allows all axes to be repeated along a given access\n",
    "# perfect for what we need here\n",
    "for X in X_train:\n",
    "    print(X_train.shape)\n",
    "    print(np.repeat(X_train, 3, 1).shape)\n",
    "    print(X.shape, np.repeat(X, 3, 0).shape)\n",
    "    break"
   ]
  },
  {
   "cell_type": "markdown",
   "id": "f0da7d60",
   "metadata": {},
   "source": [
    "## Define Loss & Optimizer"
   ]
  },
  {
   "cell_type": "code",
   "execution_count": 223,
   "id": "1cb31a0f",
   "metadata": {},
   "outputs": [],
   "source": [
    "criterion = nn.CrossEntropyLoss()\n",
    "optimizer = torch.optim.Adam(VGGmodel.classifier.parameters(), lr=0.001)"
   ]
  },
  {
   "cell_type": "code",
   "execution_count": 245,
   "id": "b42e7b57",
   "metadata": {},
   "outputs": [
    {
     "name": "stdout",
     "output_type": "stream",
     "text": [
      "epoch:  0  batch:   10 [   100/4745]  loss: 0.84217280  accuracy:  65.000%\n",
      "epoch:  0  batch:   20 [   200/4745]  loss: 1.39512062  accuracy:  71.500%\n",
      "epoch:  0  batch:   30 [   300/4745]  loss: 0.64481455  accuracy:  67.667%\n",
      "epoch:  0  batch:   40 [   400/4745]  loss: 0.27830535  accuracy:  68.750%\n",
      "epoch:  0  batch:   50 [   500/4745]  loss: 1.50604761  accuracy:  66.400%\n",
      "epoch:  0  batch:   60 [   600/4745]  loss: 0.99434614  accuracy:  66.167%\n",
      "epoch:  0  batch:   70 [   700/4745]  loss: 0.42466801  accuracy:  66.143%\n",
      "epoch:  0  batch:   80 [   800/4745]  loss: 1.04513347  accuracy:  66.000%\n",
      "epoch:  0  batch:   90 [   900/4745]  loss: 1.02280498  accuracy:  66.667%\n",
      "epoch:  0  batch:  100 [  1000/4745]  loss: 0.86209023  accuracy:  67.100%\n",
      "epoch:  0  batch:  110 [  1100/4745]  loss: 0.75916338  accuracy:  67.182%\n",
      "epoch:  0  batch:  120 [  1200/4745]  loss: 0.40271395  accuracy:  67.917%\n",
      "epoch:  0  batch:  130 [  1300/4745]  loss: 0.60279542  accuracy:  68.308%\n",
      "epoch:  0  batch:  140 [  1400/4745]  loss: 0.24353459  accuracy:  68.786%\n",
      "epoch:  0  batch:  150 [  1500/4745]  loss: 0.62745351  accuracy:  68.733%\n",
      "epoch:  0  batch:  160 [  1600/4745]  loss: 0.84149343  accuracy:  68.625%\n",
      "epoch:  0  batch:  170 [  1700/4745]  loss: 0.59886420  accuracy:  68.353%\n",
      "epoch:  0  batch:  180 [  1800/4745]  loss: 0.85337621  accuracy:  68.278%\n",
      "epoch:  0  batch:  190 [  1900/4745]  loss: 0.35417691  accuracy:  68.474%\n",
      "epoch:  0  batch:  200 [  2000/4745]  loss: 1.27607536  accuracy:  68.500%\n",
      "epoch:  0  batch:  210 [  2100/4745]  loss: 0.85127687  accuracy:  68.238%\n",
      "epoch:  0  batch:  220 [  2200/4745]  loss: 1.15485024  accuracy:  68.318%\n",
      "epoch:  0  batch:  230 [  2300/4745]  loss: 0.22969484  accuracy:  68.696%\n",
      "epoch:  0  batch:  240 [  2400/4745]  loss: 1.41899955  accuracy:  68.792%\n",
      "epoch:  0  batch:  250 [  2500/4745]  loss: 0.44731760  accuracy:  68.800%\n",
      "epoch:  0  batch:  260 [  2600/4745]  loss: 0.67371732  accuracy:  68.923%\n",
      "epoch:  0  batch:  270 [  2700/4745]  loss: 0.66725391  accuracy:  68.815%\n",
      "epoch:  0  batch:  280 [  2800/4745]  loss: 0.99532604  accuracy:  68.964%\n",
      "epoch:  0  batch:  290 [  2900/4745]  loss: 1.46358895  accuracy:  68.931%\n",
      "epoch:  0  batch:  300 [  3000/4745]  loss: 0.78896010  accuracy:  69.067%\n",
      "epoch:  0  batch:  310 [  3100/4745]  loss: 0.46685204  accuracy:  68.871%\n",
      "epoch:  0  batch:  320 [  3200/4745]  loss: 0.43169373  accuracy:  68.844%\n",
      "epoch:  0  batch:  330 [  3300/4745]  loss: 0.93326950  accuracy:  69.030%\n",
      "epoch:  0  batch:  340 [  3400/4745]  loss: 1.49894726  accuracy:  69.088%\n",
      "epoch:  0  batch:  350 [  3500/4745]  loss: 1.31576586  accuracy:  69.171%\n",
      "epoch:  0  batch:  360 [  3600/4745]  loss: 1.70317197  accuracy:  68.972%\n",
      "epoch:  0  batch:  370 [  3700/4745]  loss: 2.97592211  accuracy:  68.838%\n",
      "epoch:  0  batch:  380 [  3800/4745]  loss: 0.51557487  accuracy:  68.711%\n",
      "epoch:  0  batch:  390 [  3900/4745]  loss: 0.96280086  accuracy:  68.795%\n",
      "epoch:  0  batch:  400 [  4000/4745]  loss: 1.39078188  accuracy:  68.775%\n",
      "epoch:  0  batch:  410 [  4100/4745]  loss: 0.19917902  accuracy:  69.098%\n",
      "epoch:  0  batch:  420 [  4200/4745]  loss: 1.27197719  accuracy:  69.214%\n",
      "epoch:  0  batch:  430 [  4300/4745]  loss: 0.33100834  accuracy:  69.256%\n",
      "epoch:  0  batch:  440 [  4400/4745]  loss: 0.89819163  accuracy:  69.295%\n",
      "epoch:  0  batch:  450 [  4500/4745]  loss: 0.99251544  accuracy:  69.378%\n",
      "epoch:  0  batch:  460 [  4600/4745]  loss: 0.29793984  accuracy:  69.500%\n",
      "epoch:  0  batch:  470 [  4700/4745]  loss: 0.52145499  accuracy:  69.511%\n",
      "epoch:  1  batch:   10 [   100/4745]  loss: 0.34762079  accuracy:  83.000%\n",
      "epoch:  1  batch:   20 [   200/4745]  loss: 0.52372754  accuracy:  81.500%\n",
      "epoch:  1  batch:   30 [   300/4745]  loss: 0.91636431  accuracy:  79.667%\n",
      "epoch:  1  batch:   40 [   400/4745]  loss: 0.18411496  accuracy:  79.750%\n",
      "epoch:  1  batch:   50 [   500/4745]  loss: 0.22062135  accuracy:  79.200%\n",
      "epoch:  1  batch:   60 [   600/4745]  loss: 0.49000406  accuracy:  79.167%\n",
      "epoch:  1  batch:   70 [   700/4745]  loss: 1.71656871  accuracy:  78.857%\n",
      "epoch:  1  batch:   80 [   800/4745]  loss: 0.09774288  accuracy:  79.125%\n",
      "epoch:  1  batch:   90 [   900/4745]  loss: 0.25222874  accuracy:  79.667%\n",
      "epoch:  1  batch:  100 [  1000/4745]  loss: 0.73978442  accuracy:  79.400%\n",
      "epoch:  1  batch:  110 [  1100/4745]  loss: 0.14873217  accuracy:  79.636%\n",
      "epoch:  1  batch:  120 [  1200/4745]  loss: 0.21585841  accuracy:  79.583%\n",
      "epoch:  1  batch:  130 [  1300/4745]  loss: 1.62491262  accuracy:  79.385%\n",
      "epoch:  1  batch:  140 [  1400/4745]  loss: 0.68475783  accuracy:  79.000%\n",
      "epoch:  1  batch:  150 [  1500/4745]  loss: 0.23750214  accuracy:  79.200%\n",
      "epoch:  1  batch:  160 [  1600/4745]  loss: 0.79327333  accuracy:  79.000%\n",
      "epoch:  1  batch:  170 [  1700/4745]  loss: 0.51925576  accuracy:  78.588%\n",
      "epoch:  1  batch:  180 [  1800/4745]  loss: 0.58357012  accuracy:  78.833%\n",
      "epoch:  1  batch:  190 [  1900/4745]  loss: 0.38668653  accuracy:  78.684%\n",
      "epoch:  1  batch:  200 [  2000/4745]  loss: 0.90497541  accuracy:  78.700%\n",
      "epoch:  1  batch:  210 [  2100/4745]  loss: 0.33350149  accuracy:  78.619%\n",
      "epoch:  1  batch:  220 [  2200/4745]  loss: 0.77340728  accuracy:  78.409%\n",
      "epoch:  1  batch:  230 [  2300/4745]  loss: 1.35206795  accuracy:  78.087%\n",
      "epoch:  1  batch:  240 [  2400/4745]  loss: 0.86693400  accuracy:  77.750%\n",
      "epoch:  1  batch:  250 [  2500/4745]  loss: 0.76600581  accuracy:  77.560%\n",
      "epoch:  1  batch:  260 [  2600/4745]  loss: 0.99786443  accuracy:  77.423%\n",
      "epoch:  1  batch:  270 [  2700/4745]  loss: 0.22651009  accuracy:  77.259%\n",
      "epoch:  1  batch:  280 [  2800/4745]  loss: 0.24372593  accuracy:  77.393%\n",
      "epoch:  1  batch:  290 [  2900/4745]  loss: 1.05806661  accuracy:  77.310%\n",
      "epoch:  1  batch:  300 [  3000/4745]  loss: 1.40410340  accuracy:  77.200%\n",
      "epoch:  1  batch:  310 [  3100/4745]  loss: 0.67874616  accuracy:  77.129%\n",
      "epoch:  1  batch:  320 [  3200/4745]  loss: 0.95911819  accuracy:  76.969%\n",
      "epoch:  1  batch:  330 [  3300/4745]  loss: 0.43865743  accuracy:  77.000%\n",
      "epoch:  1  batch:  340 [  3400/4745]  loss: 0.46602392  accuracy:  77.029%\n",
      "epoch:  1  batch:  350 [  3500/4745]  loss: 1.05508494  accuracy:  77.114%\n",
      "epoch:  1  batch:  360 [  3600/4745]  loss: 0.61651248  accuracy:  77.000%\n",
      "epoch:  1  batch:  370 [  3700/4745]  loss: 0.96863014  accuracy:  77.000%\n",
      "epoch:  1  batch:  380 [  3800/4745]  loss: 0.20397420  accuracy:  77.132%\n",
      "epoch:  1  batch:  390 [  3900/4745]  loss: 0.08489235  accuracy:  77.205%\n",
      "epoch:  1  batch:  400 [  4000/4745]  loss: 0.63362575  accuracy:  77.200%\n",
      "epoch:  1  batch:  410 [  4100/4745]  loss: 0.08438210  accuracy:  77.195%\n",
      "epoch:  1  batch:  420 [  4200/4745]  loss: 2.61980367  accuracy:  77.167%\n",
      "epoch:  1  batch:  430 [  4300/4745]  loss: 2.29497766  accuracy:  77.070%\n",
      "epoch:  1  batch:  440 [  4400/4745]  loss: 1.59217846  accuracy:  77.205%\n",
      "epoch:  1  batch:  450 [  4500/4745]  loss: 0.71729046  accuracy:  77.178%\n",
      "epoch:  1  batch:  460 [  4600/4745]  loss: 0.56699198  accuracy:  77.043%\n",
      "epoch:  1  batch:  470 [  4700/4745]  loss: 0.57151055  accuracy:  77.000%\n",
      "epoch:  2  batch:   10 [   100/4745]  loss: 1.29625309  accuracy:  73.000%\n",
      "epoch:  2  batch:   20 [   200/4745]  loss: 0.47733325  accuracy:  74.500%\n",
      "epoch:  2  batch:   30 [   300/4745]  loss: 0.18869883  accuracy:  77.667%\n",
      "epoch:  2  batch:   40 [   400/4745]  loss: 0.33443815  accuracy:  77.500%\n",
      "epoch:  2  batch:   50 [   500/4745]  loss: 0.27824956  accuracy:  78.200%\n",
      "epoch:  2  batch:   60 [   600/4745]  loss: 0.51566947  accuracy:  78.667%\n",
      "epoch:  2  batch:   70 [   700/4745]  loss: 0.48973665  accuracy:  80.000%\n",
      "epoch:  2  batch:   80 [   800/4745]  loss: 0.64403379  accuracy:  80.750%\n",
      "epoch:  2  batch:   90 [   900/4745]  loss: 1.12795472  accuracy:  81.000%\n",
      "epoch:  2  batch:  100 [  1000/4745]  loss: 0.46762735  accuracy:  81.400%\n",
      "epoch:  2  batch:  110 [  1100/4745]  loss: 0.72068703  accuracy:  81.818%\n",
      "epoch:  2  batch:  120 [  1200/4745]  loss: 0.47424731  accuracy:  81.500%\n",
      "epoch:  2  batch:  130 [  1300/4745]  loss: 0.45130444  accuracy:  81.462%\n",
      "epoch:  2  batch:  140 [  1400/4745]  loss: 1.84064484  accuracy:  81.714%\n",
      "epoch:  2  batch:  150 [  1500/4745]  loss: 0.24204715  accuracy:  82.267%\n",
      "epoch:  2  batch:  160 [  1600/4745]  loss: 0.31949368  accuracy:  82.125%\n"
     ]
    },
    {
     "name": "stdout",
     "output_type": "stream",
     "text": [
      "epoch:  2  batch:  170 [  1700/4745]  loss: 1.21031332  accuracy:  82.294%\n",
      "epoch:  2  batch:  180 [  1800/4745]  loss: 0.53283823  accuracy:  82.611%\n",
      "epoch:  2  batch:  190 [  1900/4745]  loss: 0.12417539  accuracy:  82.895%\n",
      "epoch:  2  batch:  200 [  2000/4745]  loss: 0.08555003  accuracy:  83.100%\n",
      "epoch:  2  batch:  210 [  2100/4745]  loss: 0.56589931  accuracy:  83.000%\n",
      "epoch:  2  batch:  220 [  2200/4745]  loss: 1.18241405  accuracy:  82.864%\n",
      "epoch:  2  batch:  230 [  2300/4745]  loss: 0.37332734  accuracy:  82.652%\n",
      "epoch:  2  batch:  240 [  2400/4745]  loss: 0.90926611  accuracy:  82.833%\n",
      "epoch:  2  batch:  250 [  2500/4745]  loss: 1.33626676  accuracy:  82.720%\n",
      "epoch:  2  batch:  260 [  2600/4745]  loss: 1.59287298  accuracy:  82.615%\n",
      "epoch:  2  batch:  270 [  2700/4745]  loss: 0.61584151  accuracy:  82.630%\n",
      "epoch:  2  batch:  280 [  2800/4745]  loss: 1.38520873  accuracy:  82.571%\n",
      "epoch:  2  batch:  290 [  2900/4745]  loss: 0.03859160  accuracy:  82.655%\n",
      "epoch:  2  batch:  300 [  3000/4745]  loss: 0.89835751  accuracy:  82.600%\n",
      "epoch:  2  batch:  310 [  3100/4745]  loss: 0.86703509  accuracy:  82.645%\n",
      "epoch:  2  batch:  320 [  3200/4745]  loss: 1.19774449  accuracy:  82.594%\n",
      "epoch:  2  batch:  330 [  3300/4745]  loss: 0.01449182  accuracy:  82.515%\n",
      "epoch:  2  batch:  340 [  3400/4745]  loss: 0.83637941  accuracy:  82.559%\n",
      "epoch:  2  batch:  350 [  3500/4745]  loss: 0.36307678  accuracy:  82.771%\n",
      "epoch:  2  batch:  360 [  3600/4745]  loss: 0.36784509  accuracy:  82.778%\n",
      "epoch:  2  batch:  370 [  3700/4745]  loss: 0.22751363  accuracy:  82.757%\n",
      "epoch:  2  batch:  380 [  3800/4745]  loss: 0.26254135  accuracy:  82.868%\n",
      "epoch:  2  batch:  390 [  3900/4745]  loss: 0.44578344  accuracy:  82.795%\n",
      "epoch:  2  batch:  400 [  4000/4745]  loss: 0.88770676  accuracy:  82.725%\n",
      "epoch:  2  batch:  410 [  4100/4745]  loss: 0.78536808  accuracy:  82.634%\n",
      "epoch:  2  batch:  420 [  4200/4745]  loss: 0.08497009  accuracy:  82.690%\n",
      "epoch:  2  batch:  430 [  4300/4745]  loss: 0.19749574  accuracy:  82.628%\n",
      "epoch:  2  batch:  440 [  4400/4745]  loss: 0.53102612  accuracy:  82.682%\n",
      "epoch:  2  batch:  450 [  4500/4745]  loss: 0.36734065  accuracy:  82.600%\n",
      "epoch:  2  batch:  460 [  4600/4745]  loss: 0.12529545  accuracy:  82.609%\n",
      "epoch:  2  batch:  470 [  4700/4745]  loss: 0.53292555  accuracy:  82.574%\n",
      "\n",
      "Duration: 11395 seconds\n"
     ]
    }
   ],
   "source": [
    "import time\n",
    "start_time = time.time()\n",
    "\n",
    "epochs = 3 #already ran once before, so this will technically make 4 total epochs\n",
    "\n",
    "train_losses = []\n",
    "test_losses = []\n",
    "train_correct = []\n",
    "test_correct = []\n",
    "\n",
    "train_n = len(train_loader.dataset)\n",
    "test_n = len(test_loader.dataset)\n",
    "\n",
    "for i in range(epochs):\n",
    "    trn_corr = 0\n",
    "    tst_corr = 0\n",
    "    \n",
    "    # Run the training batches\n",
    "    for b, (X_train, y_train) in enumerate(train_loader):\n",
    "        \n",
    "        ## NOTE: have to reshape X to simulate RGB values\n",
    "        X_train = np.repeat(X_train, 3, 1)\n",
    "        \n",
    "        b+=1\n",
    "        \n",
    "        # Apply the model\n",
    "        y_pred = VGGmodel(X_train)\n",
    "        loss = criterion(y_pred, y_train)\n",
    " \n",
    "        # Tally the number of correct predictions\n",
    "        predicted = torch.max(y_pred.data, 1)[1]\n",
    "        batch_corr = (predicted == y_train).sum()\n",
    "        trn_corr += batch_corr\n",
    "        \n",
    "        # Update parameters\n",
    "        optimizer.zero_grad()\n",
    "        loss.backward()\n",
    "        optimizer.step()\n",
    "\n",
    "        # Print interim results\n",
    "        if b%10 == 0:\n",
    "            print(f'epoch: {i:2}  batch: {b:4} [{10*b:6}/{train_n}]  loss: {loss.item():10.8f}  \\\n",
    "accuracy: {trn_corr.item()*100/(10*b):7.3f}%')\n",
    "\n",
    "    train_losses.append(loss)\n",
    "    train_correct.append(trn_corr)\n",
    "\n",
    "    # Run the testing batches\n",
    "    with torch.no_grad():\n",
    "        for b, (X_test, y_test) in enumerate(test_loader):\n",
    "            \n",
    "            X_test = np.repeat(X_test, 3, 1)\n",
    "\n",
    "            # Apply the model\n",
    "            y_val = VGGmodel(X_test)\n",
    "\n",
    "            # Tally the number of correct predictions\n",
    "            predicted = torch.max(y_val.data, 1)[1] \n",
    "            tst_corr += (predicted == y_test).sum()\n",
    "\n",
    "    loss = criterion(y_val, y_test)\n",
    "    test_losses.append(loss)\n",
    "    test_correct.append(tst_corr)\n",
    "\n",
    "print(f'\\nDuration: {time.time() - start_time:.0f} seconds') # print the time elapsed"
   ]
  },
  {
   "cell_type": "markdown",
   "id": "d7700d76",
   "metadata": {},
   "source": [
    "## Experiment 2: Results\n",
    "\n",
    "I'm a little surprised that the retrained VGG model produced such mediocre results. I wasn't expecting it to be better than a natively trained CNN, but I thought it would still do better than a kernel SVM from the original paper"
   ]
  },
  {
   "cell_type": "code",
   "execution_count": 272,
   "id": "46b6d9bf",
   "metadata": {},
   "outputs": [
    {
     "name": "stdout",
     "output_type": "stream",
     "text": [
      "Final validation accuracy: 50.478% (chance at 14.286%)\n"
     ]
    }
   ],
   "source": [
    "print(f'Final validation accuracy: {(test_correct[-1].numpy() / test_n)*100:3.3f}% (chance at {1/len(class_names)*100:3.3f}%)')"
   ]
  },
  {
   "cell_type": "code",
   "execution_count": 273,
   "id": "c6df533a",
   "metadata": {},
   "outputs": [],
   "source": [
    "torch.save(VGGmodel.state_dict(), 'CAFE_VGG19-5_rep.pt')"
   ]
  },
  {
   "cell_type": "code",
   "execution_count": null,
   "id": "f6755e37",
   "metadata": {},
   "outputs": [],
   "source": []
  }
 ],
 "metadata": {
  "kernelspec": {
   "display_name": "lbdev",
   "language": "python",
   "name": "lbdev"
  },
  "language_info": {
   "codemirror_mode": {
    "name": "ipython",
    "version": 3
   },
   "file_extension": ".py",
   "mimetype": "text/x-python",
   "name": "python",
   "nbconvert_exporter": "python",
   "pygments_lexer": "ipython3",
   "version": "3.6.13"
  }
 },
 "nbformat": 4,
 "nbformat_minor": 5
}
